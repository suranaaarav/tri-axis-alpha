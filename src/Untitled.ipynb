{
 "cells": [
  {
   "cell_type": "code",
   "execution_count": 1,
   "id": "9bc94fc6-a889-471f-b73e-eb091b13cbde",
   "metadata": {},
   "outputs": [
    {
     "name": "stderr",
     "output_type": "stream",
     "text": [
      "Traceback (most recent call last):\n",
      "  File \"<frozen runpy>\", line 198, in _run_module_as_main\n",
      "  File \"<frozen runpy>\", line 88, in _run_code\n",
      "  File \"C:\\Users\\suran\\OneDrive\\Desktop\\tri_axis_alpha\\src\\tri_axis_alpha\\scripts\\step_00_build_leads.py\", line 4, in <module>\n",
      "    build_lead_targets(\"config.yaml\")\n",
      "  File \"C:\\Users\\suran\\OneDrive\\Desktop\\tri_axis_alpha\\src\\tri_axis_alpha\\data\\lead_fundamentals.py\", line 34, in build_lead_targets\n",
      "    cfg = load_config(cfg_path)\n",
      "          ^^^^^^^^^^^^^^^^^^^^^\n",
      "  File \"C:\\Users\\suran\\OneDrive\\Desktop\\tri_axis_alpha\\src\\tri_axis_alpha\\data\\utils.py\", line 4, in load_config\n",
      "    with open(cfg_path, \"r\", encoding=\"utf-8\") as f:\n",
      "         ^^^^^^^^^^^^^^^^^^^^^^^^^^^^^^^^^^^^^\n",
      "FileNotFoundError: [Errno 2] No such file or directory: 'config.yaml'\n"
     ]
    }
   ],
   "source": [
    "!python -m tri_axis_alpha.scripts.step_00_build_leads"
   ]
  },
  {
   "cell_type": "code",
   "execution_count": null,
   "id": "e9f90d47-6bf9-4794-809a-ebec61a48d74",
   "metadata": {},
   "outputs": [],
   "source": []
  }
 ],
 "metadata": {
  "kernelspec": {
   "display_name": "Python 3.11 (clean-ml)",
   "language": "python",
   "name": "clean-ml"
  },
  "language_info": {
   "codemirror_mode": {
    "name": "ipython",
    "version": 3
   },
   "file_extension": ".py",
   "mimetype": "text/x-python",
   "name": "python",
   "nbconvert_exporter": "python",
   "pygments_lexer": "ipython3",
   "version": "3.11.9"
  }
 },
 "nbformat": 4,
 "nbformat_minor": 5
}
